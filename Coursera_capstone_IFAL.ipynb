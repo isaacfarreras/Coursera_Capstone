{
 "cells": [
  {
   "cell_type": "markdown",
   "metadata": {},
   "source": [
    "# Applied data science capstone: Data-based decision support to inform relocations"
   ]
  },
  {
   "cell_type": "markdown",
   "metadata": {},
   "source": [
    "## A description of the problem and a discussion of the background\n",
    "\n"
   ]
  },
  {
   "cell_type": "markdown",
   "metadata": {},
   "source": [
    "Relocations, moving to a new place and establishing one's home there due to e.g. change of job, are periods of great changes where several important decisions need to be taken. Among these important decisions, where to live is probably one of the most important ones. In effect, one's home location determines not only how much time will be used for commuting to work/to study or how big one's home will be given an available budget, but also what kind of services (grocery shops, restaurants, schools, cinemas, etc.) will be easily accessible.\n",
    "\n",
    "In many cases, the decision of where to relocate is taken either quickly or based on limited information, especially when one is relocating far, e.g. to another country. \n",
    "\n",
    "This capstone will aim at developing a data-based decision support to help those in the process of relocating. \n",
    "\n",
    "To simplify the decision-making process of where to relocate, it is assumed that it depends on the following parameters:\n",
    "\n",
    "* **Composition of neighbourhood**, this is a subjective criteria that depends on the individual preferences of the person relocating. \n",
    "* **Size of the new apartment**, this is a function of available budget and the chosen location (neighbourhood) to relocate. \n",
    "* **Commuting time**, this can be modeled as a function of the distance between the chosen location to relocate and the location of the commute (work/study). \n",
    "\n",
    "For the purpose of this capstone, the user (i.e. the one relocating) will define its preferences and constraints in terms of:\n",
    "* **Location (target neighbourhood) he would like the new apartment's location to be similar to**, this can be the current apartment's location if the user finds it is a comfortable neighbourhood. \n",
    "* **Available budget**, this will be used to estimate the size of the apartment given a recommended location\n",
    "* **Location of work/study**, this will be used to estimate commuting time by computing distance between work/study location and the new apartment's location.\n",
    "\n",
    "The main idea is that users inform i) a neighbourhood location they like, ii) the city where they are rellocating, iii) an available budget and iv) the location of work/study. \n",
    "\n",
    "Given the above parameters, the user will be presented with suggested neighbourhoods to relocate. For each suggested neighbourhood, an estimated apartment size and daily commuting time will be calculated. This will provide decision-support to the user, that will then be able to target their apartment search on the recommended neighbourhoods. \n",
    "\n",
    "This project could be extended so that not only neighbourhoods, but actually apartments, are proposed to the user relocating. \n",
    "\n",
    "In order to suggest neighbourhoods for relocation, the Foursquare location data will be used to characterize the 'target neighbourhood' as well as the different neighbourhoods in the city where to relocate. Then, a clustering algorithm will be used to cluster the set of the neighbourhoods in the new city plus the target neighbourhood. Once similar neighbourhoods to the target one are identified, commuting times and apartment's size will be estimated based on user-provided information. \n"
   ]
  },
  {
   "cell_type": "markdown",
   "metadata": {},
   "source": [
    "## A description of the data and how it will be used to solve the problem"
   ]
  },
  {
   "cell_type": "markdown",
   "metadata": {},
   "source": [
    "### Neigbourhoods in Barcelona\n",
    "We will assume that the user wants to relocate to Barcelona.\n",
    "\n",
    "An overview of Barcelona's districts (each district contains several neighbourhoods) can be seen below: \n",
    "<img src=\"450px-Barcelona_districtes.svg.png\" />\n",
    "\n",
    "The coordinates of the different neighbourhoods in Barcelona will be extracted from <a href=\"https://en.wikipedia.org/wiki/Districts_of_Barcelona\">this Wikipedia page</a>.\n",
    "\n",
    "These coordinates will be used to explore the different neighbourhoods (plus the target one) in FOURSQUARE.\n",
    "\n"
   ]
  },
  {
   "cell_type": "markdown",
   "metadata": {},
   "source": [
    "### Sqm price of Barcelona neighbourhoods\n",
    "\n",
    "The price per square meter of an apprtment in Barcelona will be extracted from <a href=\"https://www.bcn.cat/estadistica/castella/dades/timm/ipreus/hab2mave/evo/t2mab.htm\">https://www.bcn.cat/estadistica/castella/dades/timm/ipreus/hab2mave/evo/t2mab.htm</a>, which is provided by the local council of Barcelona. \n",
    "UARE."
   ]
  },
  {
   "cell_type": "markdown",
   "metadata": {},
   "source": [
    "## Additional user information \n",
    "For the purpose of illustrating this capstone project, the following parameters will be assumed:\n",
    "* **Location (target neighbourhood) he would like the new apartment's location to be similar to**: a location in Madrid (similar city) will be chosen.\n",
    "* **New work location**: the user will be working close to 'Sants Station', the main train station in Barcelona. \n",
    "* **User's available budget:** The user has an available budget of 300.000 EUR to buy the apartment where to relocte. "
   ]
  },
  {
   "cell_type": "markdown",
   "metadata": {},
   "source": [
    "# Sections to be filled in week 05"
   ]
  },
  {
   "cell_type": "markdown",
   "metadata": {},
   "source": [
    "## Introduction\n",
    "Where you discuss the business problem and who would be interested in this project.\n"
   ]
  },
  {
   "cell_type": "markdown",
   "metadata": {},
   "source": [
    "## Data \n",
    "Where you describe the data that will be used to solve the problem and the source of the data.\n"
   ]
  },
  {
   "cell_type": "markdown",
   "metadata": {},
   "source": [
    "## Methodology section \n",
    "It represents the main component of the report where you discuss and describe any exploratory data analysis that you did, any inferential statistical testing that you performed, if any, and what machine learnings were used and why.\n"
   ]
  },
  {
   "cell_type": "markdown",
   "metadata": {},
   "source": [
    "## Results \n",
    "Section where you discuss the results.\n"
   ]
  },
  {
   "cell_type": "markdown",
   "metadata": {},
   "source": [
    "## Discussion \n",
    "Section where you discuss any observations you noted and any recommendations you can make based on the results.\n"
   ]
  },
  {
   "cell_type": "markdown",
   "metadata": {},
   "source": [
    "## Conclusion \n",
    "Section where you conclude the report."
   ]
  },
  {
   "cell_type": "code",
   "execution_count": 3,
   "metadata": {},
   "outputs": [],
   "source": [
    "import pandas as pd\n",
    "import numpy as np"
   ]
  },
  {
   "cell_type": "code",
   "execution_count": null,
   "metadata": {},
   "outputs": [],
   "source": []
  },
  {
   "cell_type": "code",
   "execution_count": null,
   "metadata": {},
   "outputs": [],
   "source": []
  },
  {
   "cell_type": "code",
   "execution_count": null,
   "metadata": {},
   "outputs": [],
   "source": []
  },
  {
   "cell_type": "code",
   "execution_count": null,
   "metadata": {},
   "outputs": [],
   "source": []
  }
 ],
 "metadata": {
  "kernelspec": {
   "display_name": "Python 3",
   "language": "python",
   "name": "python3"
  },
  "language_info": {
   "codemirror_mode": {
    "name": "ipython",
    "version": 3
   },
   "file_extension": ".py",
   "mimetype": "text/x-python",
   "name": "python",
   "nbconvert_exporter": "python",
   "pygments_lexer": "ipython3",
   "version": "3.7.3"
  }
 },
 "nbformat": 4,
 "nbformat_minor": 2
}
